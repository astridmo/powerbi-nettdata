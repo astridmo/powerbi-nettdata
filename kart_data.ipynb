{
 "cells": [
  {
   "cell_type": "markdown",
   "id": "059def6b",
   "metadata": {},
   "source": [
    "# Kraftlinjer og transformatorer som blir benyttet i kart\n",
    "Denne filen lager nettdata som benyttes i kartvisningen i Power BI.\n",
    "\n",
    "Data er hentet fra NVE atlas."
   ]
  },
  {
   "cell_type": "code",
   "execution_count": 38,
   "id": "8e4ad8a8",
   "metadata": {},
   "outputs": [],
   "source": [
    "import geopandas as gpd\n",
    "from shapely.geometry import Polygon\n",
    "import pandas as pd"
   ]
  },
  {
   "cell_type": "code",
   "execution_count": 39,
   "id": "0292aa4f",
   "metadata": {},
   "outputs": [],
   "source": [
    "gdf_linje = gpd.read_file(\"assets/input/NVE_Kraftlinje.geojson\")\n",
    "gdf_trafo = gpd.read_file(\"assets/input/NVE_Transformatorstasjon.geojson\")\n",
    "\n",
    "# Sett dataene sammen\n",
    "gdf = gpd.GeoDataFrame(pd.concat([gdf_linje, gdf_trafo], ignore_index=True))\n",
    "\n"
   ]
  },
  {
   "cell_type": "code",
   "execution_count": 40,
   "id": "a020d3fe",
   "metadata": {},
   "outputs": [],
   "source": [
    "# Endre farger på kraftlinjene\n",
    "gdf['stroke'] = gdf.apply(\n",
    "    lambda x: '#4B6455' if x['nveNettnivaa'] == 3 and x['eier'] in ['BKK AS', 'BKK NETT AS']\n",
    "    else '#B2002C' if x['eier'] == 'STATNETT SF'\n",
    "    else '#002762' if x['eier'] in ['BKK AS', 'BKK NETT AS']\n",
    "    else 'grey',\n",
    "    axis=1\n",
    ")\n",
    "\n",
    "# Endre farger på trafoene\n",
    "gdf['marker-color'] = gdf['eier'].apply(\n",
    "    lambda x: '#B2002C' if x == 'STATNETT SF' \n",
    "    else '#002762' if x in ['BKK AS', 'BKK NETT AS'] \n",
    "    else 'grey'\n",
    ")\n",
    "\n",
    "\n"
   ]
  },
  {
   "cell_type": "code",
   "execution_count": 41,
   "id": "4bed19d5",
   "metadata": {},
   "outputs": [],
   "source": [
    "# Definer koordinatene til området som jeg ønsker å visualisere i kartet\n",
    "coordinates = [\n",
    "    [4.231698912024626, 61.9088356868493],\n",
    "    [4.231698912024626, 59.592272496126355],\n",
    "    [7.181154945960856, 59.592272496126355],\n",
    "    [7.181154945960856, 61.9088356868493],\n",
    "    [4.231698912024626, 61.9088356868493]\n",
    "]\n",
    "\n",
    "# Lag polygonet fra koordinatene\n",
    "polygon = Polygon(coordinates)\n",
    "\n",
    "# Filtrer gdf for å beholde bare de som er innenfor polygonet\n",
    "gdf = gdf[gdf.geometry.within(polygon)]"
   ]
  },
  {
   "cell_type": "code",
   "execution_count": 42,
   "id": "fbcb1513",
   "metadata": {},
   "outputs": [],
   "source": [
    "# Inkludér kun spesifikke Statnett-transformatorer\n",
    "statnett_trafo = ['Hove', 'Refsdal', 'Steinsland', 'Modalen', 'Haugsvær', 'Lindås', 'Kollsnes',\n",
    "                  'Lille Sotra', 'Fana', 'Arna', 'Dale', 'Evanger', 'Samnanger', 'Sima',\n",
    "                  'Mauranger', 'Blåfalli', 'Oksla', 'Åsen', 'Røldal', 'Nesflaten', 'Sauda',\n",
    "                  'Børtveit', 'Midtfjellet', 'Stord', 'Sogndal', 'Leirdøla', 'Høyanger', 'Moskog']\n",
    "\n",
    "\n",
    "gdf = gdf[~(\n",
    "    (gdf['objektType'] == 'EL_Transformatorstasjon') &\n",
    "    (gdf['eier'] == 'STATNETT SF') &\n",
    "    (~gdf['navn'].isin(statnett_trafo))\n",
    ")]\n",
    "\n",
    "\n",
    "gdf = gdf[(gdf['eier'] != 'SUNNFJORD ENERGI AS') &     # Selskapet eksisterer ikke lenger\n",
    "          (gdf['navn'] != '132 HYDRO HØYANGER-MOSKOG') & # Revet for 5-6 år siden\n",
    "          (gdf['navn'] != 'M 132 MOSKOG - HØYANGER (MIDLERTIDIG)') &\n",
    "          ~((gdf['nveNettnivaa'] == 1) & (gdf['eier'] != 'STATNETT SF'))]  # Fjerner transmisjonenett som ikke statnett eier\n"
   ]
  },
  {
   "cell_type": "code",
   "execution_count": 43,
   "id": "bb8e0929",
   "metadata": {},
   "outputs": [],
   "source": [
    "# Behold kun transmisjons- og regionalnett\n",
    "gdf_regional_transmisjon = gdf[gdf[\"nveNettnivaa\"] != 3]\n",
    "\n",
    "\n",
    "# Behold kun transmisjonsnett\n",
    "gdf_statnett = gdf[gdf[\"eier\"] == \"STATNETT SF\"]"
   ]
  },
  {
   "cell_type": "code",
   "execution_count": 44,
   "id": "9b1e2264",
   "metadata": {},
   "outputs": [],
   "source": [
    "gdf_regional_transmisjon_linjer = gdf_regional_transmisjon[~(\n",
    "    (gdf_regional_transmisjon['objektType'] == 'EL_Transformatorstasjon') &\n",
    "    (gdf_regional_transmisjon['nveNettnivaa'] != 1)\n",
    ")]\n",
    "\n",
    "# Regional- og transmisjonsnett\n",
    "gdf_regional_transmisjon_linjer.to_file(\"assets/output/linjer_trafo_reg_transm_linje.geojson\", driver=\"GeoJSON\")"
   ]
  },
  {
   "cell_type": "code",
   "execution_count": 45,
   "id": "a425ae76",
   "metadata": {},
   "outputs": [],
   "source": [
    "# Lagre den filtrerte GeoDataFrame til en ny GeoJSON-fil\n",
    "#gdf.to_file(\"assets/output/linjer_trafo_alle_nettnivaa2.geojson\", driver=\"GeoJSON\")\n",
    "#gdf_regional_transmisjon.to_file(\"assets/output/linjer_trafo_regional_transmisjon2.geojson\", driver=\"GeoJSON\")\n",
    "\n",
    "# Transmisjonsnett\n",
    "gdf_statnett.to_file(\"assets/output/linjer_trafo_transmisjon.geojson\", driver=\"GeoJSON\")"
   ]
  }
 ],
 "metadata": {
  "kernelspec": {
   "display_name": "Python 3",
   "language": "python",
   "name": "python3"
  },
  "language_info": {
   "codemirror_mode": {
    "name": "ipython",
    "version": 3
   },
   "file_extension": ".py",
   "mimetype": "text/x-python",
   "name": "python",
   "nbconvert_exporter": "python",
   "pygments_lexer": "ipython3",
   "version": "3.13.3"
  }
 },
 "nbformat": 4,
 "nbformat_minor": 5
}
