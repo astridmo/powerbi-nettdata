{
 "cells": [
  {
   "cell_type": "markdown",
   "id": "23c3b872",
   "metadata": {},
   "source": [
    "# Forsyningsområdet til BKK\n",
    "Denne filen laster inn alle kommuner på Vestlandet, og lagrer data i en topojson-fil for bruk i Power BI. "
   ]
  },
  {
   "cell_type": "code",
   "execution_count": null,
   "id": "75d86db6",
   "metadata": {},
   "outputs": [],
   "source": [
    "import json\n",
    "from topojson import Topology\n",
    "\n",
    "# Les inn filen\n",
    "with open(\"assets/input/vestland_kommuner.geojson\", \"r\", encoding=\"utf-8\") as f:\n",
    "    data = json.load(f)\n",
    "\n",
    "# Hent ut selve FeatureCollection-objektet som ligger under \"Grense\"\n",
    "if \"Grense\" in data:\n",
    "    data = data[\"Grense\"]\n",
    "\n",
    "# Skriv til ny fil \n",
    "with open(\"assets/input/temp_geojson.geojson\", \"w\", encoding=\"utf-8\") as f:\n",
    "    json.dump(data, f, ensure_ascii=False, indent=2)"
   ]
  },
  {
   "cell_type": "code",
   "execution_count": 7,
   "id": "874f8db2",
   "metadata": {},
   "outputs": [],
   "source": [
    "with open(\"assets/input/temp_geojson.geojson\", \"r\", encoding=\"utf-8\") as f:\n",
    "    geojson_data = json.load(f)\n",
    "\n",
    "topo = Topology(geojson_data, prequantize=False)\n",
    "topo.to_json(\"assets/output/kommuner.topojson\")"
   ]
  }
 ],
 "metadata": {
  "kernelspec": {
   "display_name": "Python 3",
   "language": "python",
   "name": "python3"
  },
  "language_info": {
   "codemirror_mode": {
    "name": "ipython",
    "version": 3
   },
   "file_extension": ".py",
   "mimetype": "text/x-python",
   "name": "python",
   "nbconvert_exporter": "python",
   "pygments_lexer": "ipython3",
   "version": "3.13.3"
  }
 },
 "nbformat": 4,
 "nbformat_minor": 5
}
